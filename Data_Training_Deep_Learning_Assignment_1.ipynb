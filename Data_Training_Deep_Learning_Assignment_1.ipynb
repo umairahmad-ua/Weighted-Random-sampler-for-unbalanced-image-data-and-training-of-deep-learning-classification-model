{
  "nbformat": 4,
  "nbformat_minor": 0,
  "metadata": {
    "colab": {
      "name": "Data Training Deep Learning Assignment 1.ipynb",
      "provenance": [],
      "collapsed_sections": []
    },
    "kernelspec": {
      "name": "python3",
      "display_name": "Python 3"
    },
    "language_info": {
      "name": "python"
    },
    "accelerator": "GPU"
  },
  "cells": [
    {
      "cell_type": "markdown",
      "metadata": {
        "id": "cW2QK1axvoiC"
      },
      "source": [
        "# **Umair Ahmad**\n",
        "# **21i-2081**\n",
        "# Deep Learning Assignment 1"
      ]
    },
    {
      "cell_type": "markdown",
      "metadata": {
        "id": "iTi_ZU1CwAit"
      },
      "source": [
        "# Part 2 Data Training"
      ]
    },
    {
      "cell_type": "markdown",
      "metadata": {
        "id": "jy11Cvf2xBJJ"
      },
      "source": [
        "# Importing libraries"
      ]
    },
    {
      "cell_type": "code",
      "metadata": {
        "id": "jZEdSG7Qj_ck"
      },
      "source": [
        "from __future__ import print_function, division\n",
        "import torch\n",
        "import torch.nn as nn\n",
        "import torch.optim as optim\n",
        "from torch.optim import lr_scheduler\n",
        "import numpy as np\n",
        "import torchvision\n",
        "from torchvision import datasets, models, transforms\n",
        "import matplotlib.pyplot as plt\n",
        "import time\n",
        "import os\n",
        "import copy\n",
        "from torch.utils.data.sampler import WeightedRandomSampler\n",
        "plt.ion()   # interactive mode\n",
        "import pandas as pd"
      ],
      "execution_count": 17,
      "outputs": []
    },
    {
      "cell_type": "markdown",
      "metadata": {
        "id": "hcLVeIqdzM0k"
      },
      "source": [
        "# Transforming the Data,  Creating Sampler, Creating Data Loader"
      ]
    },
    {
      "cell_type": "code",
      "metadata": {
        "id": "6YRwCnCdlBrY"
      },
      "source": [
        "#Transforming the Data\n",
        "data_transforms = {\n",
        "    'Images': transforms.Compose([\n",
        "        transforms.RandomResizedCrop(224),\n",
        "        transforms.RandomHorizontalFlip(),\n",
        "        transforms.ToTensor(),\n",
        "        transforms.Normalize([0.4795, 0.4467, 0.3896],[0.2200, 0.2149, 0.2130]) #Updated values after executing the next cell\n",
        "    ])}\n",
        "\n",
        "data_dir = '/content/drive/MyDrive/NewImageNetDogs'\n",
        "image_datasets = {x: datasets.ImageFolder(os.path.join(data_dir, x),data_transforms[x]) for x in ['Images']}\n",
        "class_names = image_datasets['Images'].classes\n",
        "\n",
        "\n",
        "#the class used to handle the oversampling or undersampling of the data for unbalanced classes\n",
        "df=pd.read_csv(\"data.csv\")\n",
        "class_counts =df[\"Updated_count\"]\n",
        "num_samples = sum(class_counts)\n",
        "labels,i =[],0\n",
        "\n",
        "for x in class_counts:\n",
        "  for y in range(0,x):\n",
        "    labels.append(i)\n",
        "  i=i+1\n",
        "class_weights = [num_samples/class_counts[i] for i in range(len(class_counts))]\n",
        "counts = np.bincount(labels)\n",
        "labels_weights = 1. / counts\n",
        "samples_weight = labels_weights[labels]\n",
        "sampler = WeightedRandomSampler(torch.DoubleTensor(samples_weight), int(num_samples), replacement=True)\n",
        "\n",
        "\n",
        "\n",
        "# Data Loading\n",
        "dataloaders = {x: torch.utils.data.DataLoader(image_datasets[x], batch_size=4, num_workers=2, sampler = sampler) for x in ['Images']}\n",
        "dataset_sizes = {x: len(image_datasets[x]) for x in ['Images']}\n",
        "device = torch.device(\"cuda:0\" if torch.cuda.is_available() else \"cpu\")"
      ],
      "execution_count": 18,
      "outputs": []
    },
    {
      "cell_type": "markdown",
      "metadata": {
        "id": "Z0MSXliA0dwi"
      },
      "source": [
        "# Customized values of RGB means and standard deviations for my own data"
      ]
    },
    {
      "cell_type": "code",
      "metadata": {
        "colab": {
          "base_uri": "https://localhost:8080/"
        },
        "id": "su-zzcVUtAa7",
        "outputId": "82f3dcef-a1f9-4371-ee8d-c0de1ee0920c"
      },
      "source": [
        "#Calculate the customized values of RGB means and standard deviations for my own data and plug them into the transform component of the dataset, don't use the ones given in the example \n",
        "def get_mean_and_std(dataloader):\n",
        "  nimages = 0\n",
        "  mean = 0.\n",
        "  std = 0.\n",
        "  for batch, _ in dataloader:\n",
        "      # Rearrange batch to be the shape of [B, C, W * H]\n",
        "      batch = batch.view(batch.size(0), batch.size(1), -1)\n",
        "      # Update total number of images\n",
        "      nimages += batch.size(0)\n",
        "      # Compute mean and std here\n",
        "      mean += batch.mean(2).sum(0) \n",
        "      std += batch.std(2).sum(0)\n",
        "  # Final step\n",
        "  mean /= nimages\n",
        "  std /= nimages\n",
        "  return mean, std\n",
        "\n",
        "#mean,std=get_mean_and_std(dataloaders['Images'])\n",
        "#print(mean)\n",
        "#print(std)"
      ],
      "execution_count": null,
      "outputs": [
        {
          "output_type": "stream",
          "name": "stdout",
          "text": [
            "tensor([0.4795, 0.4467, 0.3896])\n",
            "tensor([0.2200, 0.2149, 0.2130])\n"
          ]
        }
      ]
    },
    {
      "cell_type": "markdown",
      "metadata": {
        "id": "9KNxYIRG0mwU"
      },
      "source": [
        "# Visualization of Random Data Points"
      ]
    },
    {
      "cell_type": "code",
      "metadata": {
        "colab": {
          "base_uri": "https://localhost:8080/",
          "height": 148
        },
        "id": "B83bJK-xorK8",
        "outputId": "c8cdda88-9cca-4276-d9bd-2ebd2c2c1798"
      },
      "source": [
        "def imshow(inp, title=None):\n",
        "    \"\"\"Imshow for Tensor.\"\"\"\n",
        "    inp = inp.numpy().transpose((1, 2, 0))\n",
        "    mean = np.array([0.485, 0.456, 0.406])\n",
        "    std = np.array([0.229, 0.224, 0.225])\n",
        "    inp = std * inp + mean\n",
        "    inp = np.clip(inp, 0, 1)\n",
        "    plt.imshow(inp)\n",
        "    if title is not None:\n",
        "        plt.title(title)\n",
        "    plt.pause(0.001)  # pause a bit so that plots are updated\n",
        "\n",
        "\n",
        "# Get a batch of training data\n",
        "inputs, classes = next(iter(dataloaders['Images']))\n",
        "\n",
        "# Make a grid from batch\n",
        "out = torchvision.utils.make_grid(inputs)\n",
        "\n",
        "imshow(out, title=[class_names[x] for x in classes])"
      ],
      "execution_count": null,
      "outputs": [
        {
          "output_type": "display_data",
          "data": {
            "image/png": "[encoded data removed]",
            "text/plain": [
              "<Figure size 432x288 with 1 Axes>"
            ]
          },
          "metadata": {
            "needs_background": "light"
          }
        }
      ]
    },
    {
      "cell_type": "markdown",
      "metadata": {
        "id": "FXZE02vk0tYh"
      },
      "source": [
        "# Function train_model will return the tranined model after computing every epoch"
      ]
    },
    {
      "cell_type": "code",
      "metadata": {
        "id": "vNDYJ3pt6QnG"
      },
      "source": [
        "#Removed all mention of train and val/test phases from the code and data loaders and datasets. We will be using the code only in training phase\n",
        "#Removed the lr_scheduler from the code\n",
        "def train_model(model, criterion, optimizer, num_epochs=25):\n",
        "    since = time.time()\n",
        "\n",
        "    best_model_wts = copy.deepcopy(model.state_dict())\n",
        "    best_acc = 0.0\n",
        "\n",
        "    for epoch in range(num_epochs):\n",
        "        print('Epoch {}/{}'.format(epoch, num_epochs - 1))\n",
        "        print('-' * 10)\n",
        "        model.train()  # Set model to training mode\n",
        "        running_loss = 0.0\n",
        "        running_corrects = 0\n",
        "\n",
        "            # Iterate over data.\n",
        "        for inputs, labels in dataloaders['Images']:\n",
        "          inputs = inputs.to(device)\n",
        "          labels = labels.to(device)\n",
        "\n",
        "          # zero the parameter gradients\n",
        "          optimizer.zero_grad()\n",
        "\n",
        "          # forward\n",
        "          # track history if only in train\n",
        "          with torch.set_grad_enabled(True):\n",
        "            outputs = model(inputs)\n",
        "            _, preds = torch.max(outputs, 1)\n",
        "            loss = criterion(outputs, labels)\n",
        "            loss.backward()\n",
        "            optimizer.step()\n",
        "\n",
        "          # statistics\n",
        "          running_loss += loss.item() * inputs.size(0)\n",
        "          running_corrects += torch.sum(preds == labels.data)\n",
        "\n",
        "\n",
        "        epoch_loss = running_loss / dataset_sizes[\"Images\"]\n",
        "        epoch_acc = running_corrects.double() / dataset_sizes[\"Images\"]\n",
        "\n",
        "        print('Loss: {:.4f} Acc: {:.4f}'.format( epoch_loss, epoch_acc))\n",
        "\n",
        "          # deep copy the model\n",
        "        if epoch_acc > best_acc:\n",
        "          best_acc = epoch_acc\n",
        "          best_model_wts = copy.deepcopy(model.state_dict())\n",
        "\n",
        "    time_elapsed = time.time() - since\n",
        "    print('Training complete in {:.0f}m {:.0f}s'.format(\n",
        "        time_elapsed // 60, time_elapsed % 60))\n",
        "    print('Best Acc: {:4f}'.format(best_acc))\n",
        "\n",
        "    # load best model weights\n",
        "    model.load_state_dict(best_model_wts)\n",
        "    return model"
      ],
      "execution_count": null,
      "outputs": []
    },
    {
      "cell_type": "markdown",
      "metadata": {
        "id": "dhzLU7a80-pW"
      },
      "source": [
        "# Loading Pretrainined Resnet and fine tuning it on my own dataset with 120 classes prediction"
      ]
    },
    {
      "cell_type": "code",
      "metadata": {
        "id": "TpKmksFetia8"
      },
      "source": [
        "#loading Pretrainined Resnet\n",
        "model_conv = torchvision.models.resnet18(pretrained=True)\n",
        "#freezing the all layers of pretranied model except the last one\n",
        "for param in model_conv.parameters():\n",
        "    param.requires_grad = False\n",
        "\n",
        "#creating the last fully connected layer\n",
        "num_ftrs = model_conv.fc.in_features\n",
        "model_conv.fc = nn.Linear(num_ftrs, 120) #One change the number of output neurons to the correct number for your classification example [1 mark] \n",
        "model_conv = model_conv.to(device)\n",
        "# defining Loss function\n",
        "criterion = nn.CrossEntropyLoss()\n",
        "\n",
        "# Observe that all parameters are being optimized\n",
        "# using AdaGrad as a optimization function\n",
        "optimizer_ft = optim.Adagrad(model_conv.fc.parameters(), lr=0.01, lr_decay=0, weight_decay=0, initial_accumulator_value=0, eps=1e-10) #Change the optimizer to Adagrad \n",
        "\n"
      ],
      "execution_count": null,
      "outputs": []
    },
    {
      "cell_type": "markdown",
      "metadata": {
        "id": "fdw1nbPh1vkz"
      },
      "source": [
        "# Traning Started and model saved "
      ]
    },
    {
      "cell_type": "code",
      "metadata": {
        "colab": {
          "base_uri": "https://localhost:8080/"
        },
        "id": "qiVJvLtg0qk7",
        "outputId": "a0e62363-fa00-4d26-ba5e-8bd9ec5e4bd6"
      },
      "source": [
        "model_conv = train_model(model_conv, criterion, optimizer_ft, num_epochs=50)\n",
        "torch.save(model_conv.state_dict(), '/content/drive/MyDrive/NewImageNetDogs/MyModel')"
      ],
      "execution_count": null,
      "outputs": [
        {
          "output_type": "stream",
          "name": "stdout",
          "text": [
            "Epoch 0/49\n",
            "----------\n",
            "Loss: 2.8901 Acc: 0.3573\n",
            "Epoch 1/49\n",
            "----------\n",
            "Loss: 2.2653 Acc: 0.4716\n",
            "Epoch 2/49\n",
            "----------\n",
            "Loss: 2.0971 Acc: 0.5046\n",
            "Epoch 3/49\n",
            "----------\n",
            "Loss: 1.9871 Acc: 0.5268\n",
            "Epoch 4/49\n",
            "----------\n",
            "Loss: 1.9429 Acc: 0.5327\n",
            "Epoch 5/49\n",
            "----------\n",
            "Loss: 1.9078 Acc: 0.5354\n",
            "Epoch 6/49\n",
            "----------\n",
            "Loss: 1.8590 Acc: 0.5494\n",
            "Epoch 7/49\n",
            "----------\n",
            "Loss: 1.8687 Acc: 0.5460\n",
            "Epoch 8/49\n",
            "----------\n",
            "Loss: 1.8311 Acc: 0.5520\n",
            "Epoch 9/49\n",
            "----------\n",
            "Loss: 1.7830 Acc: 0.5633\n",
            "Epoch 10/49\n",
            "----------\n",
            "Loss: 1.7787 Acc: 0.5608\n",
            "Epoch 11/49\n",
            "----------\n",
            "Loss: 1.7670 Acc: 0.5641\n",
            "Epoch 12/49\n",
            "----------\n",
            "Loss: 1.7624 Acc: 0.5623\n",
            "Epoch 13/49\n",
            "----------\n",
            "Loss: 1.7323 Acc: 0.5725\n",
            "Epoch 14/49\n",
            "----------\n",
            "Loss: 1.7390 Acc: 0.5673\n",
            "Epoch 15/49\n",
            "----------\n",
            "Loss: 1.7321 Acc: 0.5713\n",
            "Epoch 16/49\n",
            "----------\n",
            "Loss: 1.7031 Acc: 0.5772\n",
            "Epoch 17/49\n",
            "----------\n",
            "Loss: 1.6767 Acc: 0.5777\n",
            "Epoch 18/49\n",
            "----------\n",
            "Loss: 1.6867 Acc: 0.5791\n",
            "Epoch 19/49\n",
            "----------\n",
            "Loss: 1.7054 Acc: 0.5766\n",
            "Epoch 20/49\n",
            "----------\n",
            "Loss: 1.6925 Acc: 0.5749\n",
            "Epoch 21/49\n",
            "----------\n",
            "Loss: 1.6826 Acc: 0.5796\n",
            "Epoch 22/49\n",
            "----------\n",
            "Loss: 1.6730 Acc: 0.5833\n",
            "Epoch 23/49\n",
            "----------\n",
            "Loss: 1.6780 Acc: 0.5783\n",
            "Epoch 24/49\n",
            "----------\n",
            "Loss: 1.6898 Acc: 0.5809\n",
            "Epoch 25/49\n",
            "----------\n",
            "Loss: 1.6713 Acc: 0.5800\n",
            "Epoch 26/49\n",
            "----------\n",
            "Loss: 1.6703 Acc: 0.5812\n",
            "Epoch 27/49\n",
            "----------\n",
            "Loss: 1.6639 Acc: 0.5827\n",
            "Epoch 28/49\n",
            "----------\n",
            "Loss: 1.6571 Acc: 0.5891\n",
            "Epoch 29/49\n",
            "----------\n",
            "Loss: 1.6548 Acc: 0.5855\n",
            "Epoch 30/49\n",
            "----------\n",
            "Loss: 1.6411 Acc: 0.5854\n",
            "Epoch 31/49\n",
            "----------\n",
            "Loss: 1.6395 Acc: 0.5916\n",
            "Epoch 32/49\n",
            "----------\n",
            "Loss: 1.6321 Acc: 0.5853\n",
            "Epoch 33/49\n",
            "----------\n",
            "Loss: 1.6346 Acc: 0.5874\n",
            "Epoch 34/49\n",
            "----------\n",
            "Loss: 1.6292 Acc: 0.5892\n",
            "Epoch 35/49\n",
            "----------\n",
            "Loss: 1.6413 Acc: 0.5860\n",
            "Epoch 36/49\n",
            "----------\n",
            "Loss: 1.6425 Acc: 0.5850\n",
            "Epoch 37/49\n",
            "----------\n",
            "Loss: 1.6040 Acc: 0.5935\n",
            "Epoch 38/49\n",
            "----------\n",
            "Loss: 1.6311 Acc: 0.5868\n",
            "Epoch 39/49\n",
            "----------\n",
            "Loss: 1.6402 Acc: 0.5909\n",
            "Epoch 40/49\n",
            "----------\n",
            "Loss: 1.6077 Acc: 0.5919\n",
            "Epoch 41/49\n",
            "----------\n",
            "Loss: 1.6339 Acc: 0.5892\n",
            "Epoch 42/49\n",
            "----------\n",
            "Loss: 1.6119 Acc: 0.5960\n",
            "Epoch 43/49\n",
            "----------\n",
            "Loss: 1.6131 Acc: 0.5946\n",
            "Epoch 44/49\n",
            "----------\n",
            "Loss: 1.5932 Acc: 0.5984\n",
            "Epoch 45/49\n",
            "----------\n",
            "Loss: 1.5862 Acc: 0.5974\n",
            "Epoch 46/49\n",
            "----------\n",
            "Loss: 1.6208 Acc: 0.5907\n",
            "Epoch 47/49\n",
            "----------\n",
            "Loss: 1.6080 Acc: 0.5931\n",
            "Epoch 48/49\n",
            "----------\n",
            "Loss: 1.6285 Acc: 0.5921\n",
            "Epoch 49/49\n",
            "----------\n",
            "Loss: 1.6283 Acc: 0.5898\n",
            "Training complete in 111m 27s\n",
            "Best Acc: 0.598365\n"
          ]
        }
      ]
    },
    {
      "cell_type": "markdown",
      "metadata": {
        "id": "MyFIF8Dd14hB"
      },
      "source": [
        "# **Results during training**\n",
        "**Training complete in 111m 27s**\n",
        "\n",
        "**Best Acc: 0.598365**"
      ]
    }
  ]
}